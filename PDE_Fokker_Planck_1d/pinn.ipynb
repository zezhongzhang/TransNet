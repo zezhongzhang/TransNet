{
 "cells": [
  {
   "cell_type": "code",
   "execution_count": 1,
   "outputs": [],
   "source": [
    "import torch\n",
    "import torch.nn as nn\n",
    "import numpy as np\n",
    "import torch.optim as optim\n",
    "from torch.optim.lr_scheduler import StepLR\n",
    "import matplotlib.pyplot as plt\n",
    "import pandas as pd"
   ],
   "metadata": {
    "collapsed": false,
    "pycharm": {
     "name": "#%%\n"
    }
   }
  },
  {
   "cell_type": "code",
   "execution_count": 2,
   "outputs": [],
   "source": [
    "from problem import Fokker_Planck_1d\n",
    "from model import PDE_basis, TrainLS\n",
    "from my_utils import plot_2d_tri, plot_domain_2d"
   ],
   "metadata": {
    "collapsed": false,
    "pycharm": {
     "name": "#%%\n"
    }
   }
  },
  {
   "cell_type": "code",
   "execution_count": 3,
   "outputs": [],
   "source": [
    "class FCNet(nn.Module):\n",
    "    def __init__(self, input_dim, output_dim, width, hidden, use_bias=True):\n",
    "        super(FCNet, self).__init__()\n",
    "        self.width = width\n",
    "        self.hidden = hidden\n",
    "        self.use_bias = use_bias\n",
    "        self.activation = torch.tanh\n",
    "\n",
    "        # all linear layers\n",
    "        fc_all = [nn.Linear(in_features=input_dim, out_features=width, bias=use_bias)]\n",
    "        for i in range(self.hidden - 1):\n",
    "            fc_all.append(nn.Linear(in_features=width, out_features=width, bias=use_bias))\n",
    "        fc_all.append(nn.Linear(in_features=width, out_features=output_dim, bias=use_bias))\n",
    "        self.fc_all = nn.ModuleList(fc_all)\n",
    "        #\n",
    "\n",
    "    def forward(self, x_in):\n",
    "        # input\n",
    "        t = self.fc_all[0](x_in)\n",
    "        # FC\n",
    "        for i in range(self.hidden):\n",
    "            t = self.activation(t)\n",
    "            t = self.fc_all[i+1](t)\n",
    "        return t\n",
    "\n",
    "def grad(outputs, inputs):\n",
    "    \"\"\" compute the derivative of outputs associated with inputs\n",
    "\n",
    "    Params\n",
    "    ======\n",
    "    outputs: (N, 1) tensor\n",
    "    inputs: (N, D) tensor\n",
    "\n",
    "    :return: (N, D) tensor\n",
    "    \"\"\"\n",
    "    return torch.autograd.grad(outputs, inputs, grad_outputs=torch.ones_like(outputs),\n",
    "                               create_graph=True)[0]\n",
    "\n"
   ],
   "metadata": {
    "collapsed": false,
    "pycharm": {
     "name": "#%%\n"
    }
   }
  },
  {
   "cell_type": "code",
   "execution_count": 4,
   "outputs": [],
   "source": [
    "my_prob = Fokker_Planck_1d(case=1)\n",
    "sigma_SDE = my_prob.sigma_SDE\n",
    "mag = my_prob.mu_mag\n",
    "freq = my_prob.mu_freq\n",
    "\n",
    "\n",
    "def pde(x_pde, model):\n",
    "    x_pde.requires_grad_(True)\n",
    "    u_pde = model(x_pde)\n",
    "\n",
    "    t = x_pde[:,[0]]\n",
    "    mu_eval = mag * torch.cos(freq * t)\n",
    "    D = sigma_SDE**2 / 2\n",
    "\n",
    "\n",
    "    grad_u = grad(u_pde, x_pde)\n",
    "    u_t = grad_u[:, [0]]\n",
    "    u_x = grad_u[:, [1]]\n",
    "\n",
    "    u_xx = grad(u_x, x_pde)[:, [1]]\n",
    "\n",
    "    pde_value = u_t + mu_eval*u_x - D*u_xx\n",
    "    return pde_value"
   ],
   "metadata": {
    "collapsed": false,
    "pycharm": {
     "name": "#%%\n"
    }
   }
  },
  {
   "cell_type": "code",
   "execution_count": 5,
   "outputs": [
    {
     "data": {
      "text/plain": "<Figure size 576x432 with 1 Axes>",
      "image/png": "[encoded data removed]"
     },
     "metadata": {
      "needs_background": "light"
     },
     "output_type": "display_data"
    }
   ],
   "source": [
    "data = np.load('data/data.npz',allow_pickle=True)\n",
    "x_pde = data['x_pde']\n",
    "x_bd = data['x_bd']\n",
    "x_test = data['x_test']\n",
    "\n",
    "target_pde = data['target_pde']\n",
    "target_bd = data['target_bd'].item()['u']\n",
    "target_test = data['target_test'].item()['u']\n",
    "\n",
    "\n",
    "plot_domain_2d(x_pde=x_pde, x_bd=x_bd, x_test=x_test)\n"
   ],
   "metadata": {
    "collapsed": false,
    "pycharm": {
     "name": "#%%\n"
    }
   }
  },
  {
   "cell_type": "code",
   "execution_count": 6,
   "outputs": [
    {
     "name": "stdout",
     "output_type": "stream",
     "text": [
      "torch.Size([10000, 2]) torch.Size([10000, 1])\n",
      "torch.Size([2998, 2]) torch.Size([2998, 1])\n",
      "torch.Size([14652, 2]) torch.Size([14652, 1])\n"
     ]
    }
   ],
   "source": [
    "x_pde = torch.from_numpy(x_pde).float()\n",
    "x_bd = torch.from_numpy(x_bd).float()\n",
    "x_test = torch.from_numpy(x_test).float()\n",
    "\n",
    "target_pde = torch.from_numpy(target_pde).float()\n",
    "target_bd = torch.from_numpy(target_bd).float()\n",
    "target_test = torch.from_numpy(target_test).float()\n",
    "print(x_pde.shape, target_pde.shape)\n",
    "print(x_bd.shape, target_bd.shape)\n",
    "print(x_test.shape, target_test.shape)"
   ],
   "metadata": {
    "collapsed": false,
    "pycharm": {
     "name": "#%%\n"
    }
   }
  },
  {
   "cell_type": "code",
   "execution_count": 7,
   "outputs": [],
   "source": [
    "def train_Adam(model, optimizer_Adam, lr_scheduler):\n",
    "    optimizer_Adam.zero_grad()\n",
    "    op_pde = pde(x_pde, model)\n",
    "    loss_pde = criterion(op_pde, target_pde)\n",
    "\n",
    "    u_bd = model(x_bd)\n",
    "    loss_bd = criterion(u_bd, target_bd)\n",
    "\n",
    "    loss = loss_pde + loss_bd\n",
    "\n",
    "    loss.backward()\n",
    "\n",
    "    optimizer_Adam.step()\n",
    "    lr_scheduler.step()\n",
    "    return loss.item(), loss_pde.item(), loss_bd.item()\n",
    "\n",
    "\n",
    "def train_LBFGS(model, optimizer_LBFGS):\n",
    "\n",
    "    def closure():\n",
    "        if torch.is_grad_enabled():\n",
    "            optimizer_LBFGS.zero_grad()\n",
    "\n",
    "        op_pde = pde(x_pde, model)\n",
    "        loss_pde = criterion(op_pde, target_pde)\n",
    "\n",
    "        u_bd = model(x_bd)\n",
    "        loss_bd = criterion(u_bd, target_bd)\n",
    "\n",
    "        loss = loss_pde + loss_bd\n",
    "        if loss.requires_grad:\n",
    "            loss.backward()\n",
    "        return loss\n",
    "\n",
    "    optimizer_LBFGS.step(closure)\n",
    "    loss = closure()\n",
    "\n",
    "    return loss.item()\n",
    "\n"
   ],
   "metadata": {
    "collapsed": false,
    "pycharm": {
     "name": "#%%\n"
    }
   }
  },
  {
   "cell_type": "code",
   "execution_count": 8,
   "outputs": [],
   "source": [
    "criterion = nn.MSELoss()\n",
    "epochs_Adam = 5000\n",
    "epochs_LBFGS = 201\n",
    "lr = 0.001\n",
    "gamma = 0.7\n",
    "step_size = 2000\n",
    "\n",
    "\n",
    "# model  = FCNet(input_dim=2, output_dim=1, width=500, hidden=1)\n",
    "# optimizer_Adam = optim.Adam(model.parameters(), lr=lr)\n",
    "# lr_scheduler = StepLR(optimizer_Adam,step_size=step_size,gamma=gamma)\n",
    "#\n",
    "# optimizer_LBFGS = optim.LBFGS(model.parameters(),\n",
    "#                                    max_iter=20,\n",
    "#                                    tolerance_grad=1.e-8,\n",
    "#                                    tolerance_change=1.e-12)\n",
    "use_cuda = True\n",
    "if use_cuda:\n",
    "    x_pde = x_pde.cuda()\n",
    "    x_bd = x_bd.cuda()\n",
    "    x_test = x_test.cuda()\n",
    "    target_pde = target_pde.cuda()\n",
    "    target_bd = target_bd.cuda()\n",
    "    target_test = target_test.cuda()\n"
   ],
   "metadata": {
    "collapsed": false,
    "pycharm": {
     "name": "#%%\n"
    }
   }
  },
  {
   "cell_type": "code",
   "execution_count": 9,
   "outputs": [],
   "source": [
    "\n",
    "def train(width):\n",
    "    model  = FCNet(input_dim=2, output_dim=1, width=width, hidden=1)\n",
    "    optimizer_Adam = optim.Adam(model.parameters(), lr=lr)\n",
    "    lr_scheduler = StepLR(optimizer_Adam,step_size=step_size,gamma=gamma)\n",
    "\n",
    "    optimizer_LBFGS = optim.LBFGS(model.parameters(),\n",
    "                                       max_iter=20,\n",
    "                                       tolerance_grad=1.e-8,\n",
    "                                       tolerance_change=1.e-12)\n",
    "    if use_cuda:\n",
    "        model.cuda()\n",
    "\n",
    "\n",
    "    record_epoch = []\n",
    "    train_loss = []\n",
    "    test_mse = []\n",
    "    for epoch in range(epochs_Adam):\n",
    "        loss, loss1, loss2 = train_Adam(model,optimizer_Adam,lr_scheduler)\n",
    "        if epoch % 100 == 0:\n",
    "            print(epoch, loss)\n",
    "            record_epoch.append(epoch)\n",
    "            train_loss.append(loss)\n",
    "            test_mse.append(criterion(target_test, model(x_test)).item())\n",
    "\n",
    "    for epoch in range(epochs_Adam, epochs_Adam + epochs_LBFGS):\n",
    "        loss = train_LBFGS(model,optimizer_LBFGS)\n",
    "        if epoch % 20 == 0:\n",
    "            print(epoch, loss)\n",
    "            record_epoch.append(epoch)\n",
    "            train_loss.append(loss)\n",
    "            test_mse.append(criterion(target_test, model(x_test)).item())\n",
    "    return record_epoch, train_loss, test_mse"
   ],
   "metadata": {
    "collapsed": false,
    "pycharm": {
     "name": "#%%\n"
    }
   }
  },
  {
   "cell_type": "code",
   "execution_count": 10,
   "outputs": [
    {
     "name": "stdout",
     "output_type": "stream",
     "text": [
      "100 .....................\n",
      "0 0.470025897026062\n",
      "100 0.045539308339357376\n",
      "200 0.04369032382965088\n",
      "300 0.042322490364313126\n",
      "400 0.04074712097644806\n",
      "500 0.03886658325791359\n",
      "600 0.03658546134829521\n",
      "700 0.03384522348642349\n",
      "800 0.030800940468907356\n",
      "900 0.027918266132473946\n",
      "1000 0.02561905048787594\n",
      "1100 0.023882463574409485\n",
      "1200 0.02246183343231678\n",
      "1300 0.021254297345876694\n",
      "1400 0.020262451842427254\n",
      "1500 0.019462231546640396\n",
      "1600 0.0188438780605793\n",
      "1700 0.018373848870396614\n",
      "1800 0.017995942384004593\n",
      "1900 0.017660396173596382\n",
      "2000 0.01733222045004368\n",
      "2100 0.017088180407881737\n",
      "2200 0.016808899119496346\n",
      "2300 0.016464857384562492\n",
      "2400 0.016041532158851624\n",
      "2500 0.015548540279269218\n",
      "2600 0.014994959346950054\n",
      "2700 0.014385896734893322\n",
      "2800 0.013725966215133667\n",
      "2900 0.013022811152040958\n",
      "3000 0.01229160651564598\n",
      "3100 0.011556820012629032\n",
      "3200 0.010847738943994045\n",
      "3300 0.010191421955823898\n",
      "3400 0.009607726708054543\n",
      "3500 0.00910104624927044\n",
      "3600 0.008660097606480122\n",
      "3700 0.008265042677521706\n",
      "3800 0.007894344627857208\n",
      "3900 0.0075289118103682995\n",
      "4000 0.007155469618737698\n",
      "4100 0.00688511785119772\n",
      "4200 0.006606145761907101\n",
      "4300 0.006318695843219757\n",
      "4400 0.00602315180003643\n",
      "4500 0.005720232613384724\n",
      "4600 0.0054110996425151825\n",
      "4700 0.005097377113997936\n",
      "4800 0.00478124525398016\n",
      "4900 0.004465530160814524\n",
      "5000 0.003578491508960724\n",
      "5020 0.0004681344435084611\n",
      "5040 0.0002286907401867211\n",
      "5060 0.00013649938046000898\n",
      "5080 9.754760685609654e-05\n",
      "5100 7.621739496244118e-05\n",
      "5120 6.577883323188871e-05\n",
      "5140 5.553459777729586e-05\n",
      "5160 4.711153815151192e-05\n",
      "5180 4.064070526510477e-05\n",
      "5200 3.4795677493093535e-05\n",
      "250 .....................\n",
      "0 0.21299853920936584\n",
      "100 0.04253824055194855\n",
      "200 0.03843654692173004\n",
      "300 0.03365951031446457\n",
      "400 0.028680669143795967\n",
      "500 0.024706246331334114\n",
      "600 0.022309938445687294\n",
      "700 0.020935172215104103\n",
      "800 0.02005842886865139\n",
      "900 0.01936471275985241\n",
      "1000 0.01869839057326317\n",
      "1100 0.017969364300370216\n",
      "1200 0.01710541918873787\n",
      "1300 0.01612883433699608\n",
      "1400 0.015084958635270596\n",
      "1500 0.013998324982821941\n",
      "1600 0.012876166962087154\n",
      "1700 0.01180362794548273\n",
      "1800 0.010848717764019966\n",
      "1900 0.010055506601929665\n",
      "2000 0.009375864639878273\n",
      "2100 0.008947005495429039\n",
      "2200 0.008538833819329739\n",
      "2300 0.008143062703311443\n",
      "2400 0.007757479324936867\n",
      "2500 0.007379000075161457\n",
      "2600 0.00700389826670289\n",
      "2700 0.006709680426865816\n",
      "2800 0.00631380919367075\n",
      "2900 0.005988303571939468\n",
      "3000 0.005686990916728973\n",
      "3100 0.005401696544140577\n",
      "3200 0.005111911334097385\n",
      "3300 0.004848880227655172\n",
      "3400 0.004601891152560711\n",
      "3500 0.004456899128854275\n",
      "3600 0.004161863587796688\n",
      "3700 0.003963966853916645\n",
      "3800 0.0037850693333894014\n",
      "3900 0.003621182404458523\n",
      "4000 0.0034615688491612673\n",
      "4100 0.003351229475811124\n",
      "4200 0.003241434693336487\n",
      "4300 0.003132603596895933\n",
      "4400 0.003025167854502797\n",
      "4500 0.002919526770710945\n",
      "4600 0.0028159827925264835\n",
      "4700 0.002718682400882244\n",
      "4800 0.002632488962262869\n",
      "4900 0.0025475393049418926\n",
      "5000 0.0024708383716642857\n",
      "5020 0.002467547543346882\n",
      "5040 0.0024643829092383385\n",
      "5060 0.0024613062851130962\n",
      "5080 0.0024583020713180304\n",
      "5100 0.002455344656482339\n",
      "5120 0.002452426590025425\n",
      "5140 0.0024495446123182774\n",
      "5160 0.002446691505610943\n",
      "5180 0.0024438579566776752\n",
      "5200 0.002441039541736245\n",
      "500 .....................\n",
      "0 0.23385241627693176\n",
      "100 0.03991503268480301\n",
      "200 0.03418756276369095\n",
      "300 0.02895456552505493\n",
      "400 0.025385189801454544\n",
      "500 0.023128747940063477\n",
      "600 0.02147691510617733\n",
      "700 0.020290600135922432\n",
      "800 0.019477222114801407\n",
      "900 0.018772974610328674\n",
      "1000 0.01790466159582138\n",
      "1100 0.016757408156991005\n",
      "1200 0.015415565110743046\n",
      "1300 0.014018172398209572\n",
      "1400 0.01272646151483059\n",
      "1500 0.011598492041230202\n",
      "1600 0.010560418479144573\n",
      "1700 0.009548576548695564\n",
      "1800 0.008562544360756874\n",
      "1900 0.00768969627097249\n",
      "2000 0.0069754160940647125\n",
      "2100 0.00652301823720336\n",
      "2200 0.006093800067901611\n",
      "2300 0.00568730104714632\n",
      "2400 0.005303854588419199\n",
      "2500 0.0049444530159235\n",
      "2600 0.005143593065440655\n",
      "2700 0.004371443763375282\n",
      "2800 0.004145484883338213\n",
      "2900 0.0039563048630952835\n",
      "3000 0.00378628633916378\n",
      "3100 0.00362516101449728\n",
      "3200 0.00349399633705616\n",
      "3300 0.003370252437889576\n",
      "3400 0.003248249413445592\n",
      "3500 0.003142399713397026\n",
      "3600 0.003044605255126953\n",
      "3700 0.0029498767107725143\n",
      "3800 0.0028706900775432587\n",
      "3900 0.002776486799120903\n",
      "4000 0.0026974016800522804\n",
      "4100 0.0026402021758258343\n",
      "4200 0.002581186592578888\n",
      "4300 0.0025213873013854027\n",
      "4400 0.002461974509060383\n",
      "4500 0.0024034350644797087\n",
      "4600 0.002345731481909752\n",
      "4700 0.0022887520026415586\n",
      "4800 0.0022324505262076855\n",
      "4900 0.002183513483032584\n",
      "5000 0.002017538296058774\n",
      "5020 0.00023425070685334504\n",
      "5040 7.822642510291189e-05\n",
      "5060 4.306767004891299e-05\n",
      "5080 2.8565957109094597e-05\n",
      "5100 2.36343275901163e-05\n",
      "5120 2.0827910702791996e-05\n",
      "5140 1.9255703591625206e-05\n",
      "5160 1.924958996823989e-05\n",
      "5180 1.92479037650628e-05\n",
      "5200 1.924554817378521e-05\n",
      "750 .....................\n",
      "0 0.11758997291326523\n",
      "100 0.038541458547115326\n",
      "200 0.03151572868227959\n",
      "300 0.02632865123450756\n",
      "400 0.02362769842147827\n",
      "500 0.021947920322418213\n",
      "600 0.020623795688152313\n",
      "700 0.01967049203813076\n",
      "800 0.01904423162341118\n",
      "900 0.018543962389230728\n",
      "1000 0.01819489151239395\n",
      "1100 0.017869796603918076\n",
      "1200 0.01756797730922699\n",
      "1300 0.017256733030080795\n",
      "1400 0.01691766455769539\n",
      "1500 0.016576223075389862\n",
      "1600 0.016164755448698997\n",
      "1700 0.017181603237986565\n",
      "1800 0.015069998800754547\n",
      "1900 0.01435425877571106\n",
      "2000 0.013757539913058281\n",
      "2100 0.01300882175564766\n",
      "2200 0.012434635311365128\n",
      "2300 0.01182946003973484\n",
      "2400 0.011205573566257954\n",
      "2500 0.010575017891824245\n",
      "2600 0.009950305335223675\n",
      "2700 0.009344051592051983\n",
      "2800 0.00876651518046856\n",
      "2900 0.008510230109095573\n",
      "3000 0.007844844833016396\n",
      "3100 0.007460754830390215\n",
      "3200 0.007120195776224136\n",
      "3300 0.006829145364463329\n",
      "3400 0.006552198436111212\n",
      "3500 0.0063625844195485115\n",
      "3600 0.00607536593452096\n",
      "3700 0.005868285428732634\n",
      "3800 0.008543487638235092\n",
      "3900 0.005503939464688301\n",
      "4000 0.005344304256141186\n",
      "4100 0.005234238691627979\n",
      "4200 0.005124538671225309\n",
      "4300 0.005015255883336067\n",
      "4400 0.004906412214040756\n",
      "4500 0.004797999747097492\n",
      "4600 0.004689989611506462\n",
      "4700 0.004582341760396957\n",
      "4800 0.0044973730109632015\n",
      "4900 0.004393344279378653\n",
      "5000 0.0041281115263700485\n",
      "5020 0.000749637430999428\n",
      "5040 0.00040510171675123274\n",
      "5060 0.00022065354278311133\n",
      "5080 0.00014565129822585732\n",
      "5100 8.58571584103629e-05\n",
      "5120 5.927321035414934e-05\n",
      "5140 4.615135912899859e-05\n",
      "5160 3.695644409162924e-05\n",
      "5180 2.7681515348376706e-05\n",
      "5200 2.3084283384378068e-05\n",
      "1000 .....................\n",
      "0 0.34041231870651245\n",
      "100 0.04179491475224495\n",
      "200 0.034731607884168625\n",
      "300 0.029081160202622414\n",
      "400 0.025493953377008438\n",
      "500 0.02336820214986801\n",
      "600 0.021787071600556374\n",
      "700 0.02052876725792885\n",
      "800 0.019603250548243523\n",
      "900 0.01892506517469883\n",
      "1000 0.01817667856812477\n",
      "1100 0.01735028252005577\n",
      "1200 0.016686392948031425\n",
      "1300 0.015913428738713264\n",
      "1400 0.015410205349326134\n",
      "1500 0.014396676793694496\n",
      "1600 0.013656637631356716\n",
      "1700 0.013396631926298141\n",
      "1800 0.012343838810920715\n",
      "1900 0.011772536672651768\n",
      "2000 0.021305905655026436\n",
      "2100 0.010894141159951687\n",
      "2200 0.010575611144304276\n",
      "2300 0.01025545597076416\n",
      "2400 0.009933055378496647\n",
      "2500 0.009608152322471142\n",
      "2600 0.009280486032366753\n",
      "2700 0.008949300274252892\n",
      "2800 0.008613048121333122\n",
      "2900 0.008318684995174408\n",
      "3000 0.008038788102567196\n",
      "3100 0.007759681437164545\n",
      "3200 0.007511083036661148\n",
      "3300 0.007272009737789631\n",
      "3400 0.0070291622541844845\n",
      "3500 0.006820380222052336\n",
      "3600 0.006615915335714817\n",
      "3700 0.0064112101681530476\n",
      "3800 0.00636223703622818\n",
      "3900 0.006044576410204172\n",
      "4000 0.005870205350220203\n",
      "4100 0.00574635062366724\n",
      "4200 0.005620025563985109\n",
      "4300 0.00549130467697978\n",
      "4400 0.005360243376344442\n",
      "4500 0.005226864479482174\n",
      "4600 0.005091166123747826\n",
      "4700 0.004953114315867424\n",
      "4800 0.0048346440307796\n",
      "4900 0.004708675667643547\n",
      "5000 0.004418566357344389\n",
      "5020 0.0006009582430124283\n",
      "5040 0.00018747268768493086\n",
      "5060 9.023350139614195e-05\n",
      "5080 6.086947178118862e-05\n",
      "5100 4.88400983158499e-05\n",
      "5120 4.075852484675124e-05\n",
      "5140 3.666147676995024e-05\n",
      "5160 3.1393839890370145e-05\n",
      "5180 2.7573554689297453e-05\n",
      "5200 2.567529008956626e-05\n"
     ]
    }
   ],
   "source": [
    "width_vec = [100,250,500,750,1000]\n",
    "result_all = []\n",
    "for width in width_vec:\n",
    "    print(width,'.....................')\n",
    "    record_epoch, train_loss, test_mse = train(width)\n",
    "    result_all.append([record_epoch, train_loss, test_mse])"
   ],
   "metadata": {
    "collapsed": false,
    "pycharm": {
     "name": "#%%\n"
    }
   }
  },
  {
   "cell_type": "code",
   "execution_count": 11,
   "outputs": [
    {
     "data": {
      "text/plain": "<Figure size 432x288 with 1 Axes>",
      "image/png": "[encoded data removed]"
     },
     "metadata": {
      "needs_background": "light"
     },
     "output_type": "display_data"
    }
   ],
   "source": [
    "for i in range(len(width_vec)):\n",
    "    plt.plot(result_all[i][0], result_all[i][1], label=width_vec[i])\n",
    "plt.yscale('log')\n",
    "plt.title('train mse')\n",
    "plt.legend()\n",
    "plt.show()"
   ],
   "metadata": {
    "collapsed": false,
    "pycharm": {
     "name": "#%%\n"
    }
   }
  },
  {
   "cell_type": "code",
   "execution_count": 12,
   "outputs": [
    {
     "data": {
      "text/plain": "<Figure size 432x288 with 1 Axes>",
      "image/png": "[encoded data removed]"
     },
     "metadata": {
      "needs_background": "light"
     },
     "output_type": "display_data"
    }
   ],
   "source": [
    "for i in range(len(width_vec)):\n",
    "    plt.plot(result_all[i][0], result_all[i][2], label=width_vec[i])\n",
    "plt.yscale('log')\n",
    "plt.title('test mse')\n",
    "plt.legend()\n",
    "plt.show()"
   ],
   "metadata": {
    "collapsed": false,
    "pycharm": {
     "name": "#%%\n"
    }
   }
  },
  {
   "cell_type": "code",
   "execution_count": 13,
   "outputs": [],
   "source": [
    "result_all = np.array(result_all)\n",
    "np.save('pinn_raw',result_all)"
   ],
   "metadata": {
    "collapsed": false,
    "pycharm": {
     "name": "#%%\n"
    }
   }
  },
  {
   "cell_type": "code",
   "execution_count": 14,
   "outputs": [],
   "source": [
    "final_mse = []\n",
    "final_mse_adam = []\n",
    "for i in range(len(width_vec)):\n",
    "    index = result_all[i][0]\n",
    "    temp = np.array(result_all[i][2])\n",
    "    final_mse.append(temp.min())\n",
    "    final_mse_adam.append(temp[index==epochs_Adam].item())\n",
    "\n",
    "df = pd.DataFrame({'basis_num': width_vec, 'mse_final': final_mse, 'mse_adam': final_mse_adam})\n",
    "df.to_csv(f'pinn.csv',header=True, index=False, encoding='utf-8')"
   ],
   "metadata": {
    "collapsed": false,
    "pycharm": {
     "name": "#%%\n"
    }
   }
  }
 ],
 "metadata": {
  "kernelspec": {
   "display_name": "Python 3",
   "language": "python",
   "name": "python3"
  },
  "language_info": {
   "codemirror_mode": {
    "name": "ipython",
    "version": 2
   },
   "file_extension": ".py",
   "mimetype": "text/x-python",
   "name": "python",
   "nbconvert_exporter": "python",
   "pygments_lexer": "ipython2",
   "version": "2.7.6"
  }
 },
 "nbformat": 4,
 "nbformat_minor": 0
}