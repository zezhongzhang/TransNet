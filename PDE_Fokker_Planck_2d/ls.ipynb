{
 "cells": [
  {
   "cell_type": "code",
   "execution_count": 6,
   "metadata": {
    "collapsed": true,
    "pycharm": {
     "name": "#%%\n"
    }
   },
   "outputs": [],
   "source": [
    "import numpy as np\n",
    "import matplotlib.pyplot as plt\n",
    "import torch\n",
    "import torch.nn as nn\n",
    "import pandas as pd"
   ]
  },
  {
   "cell_type": "code",
   "execution_count": 7,
   "outputs": [],
   "source": [
    "from problem import Fokker_Planck_2d, Domain\n",
    "from model import PDE_basis, TrainLS\n",
    "# from my_utils import plot_2d_tri, plot_domain_2d"
   ],
   "metadata": {
    "collapsed": false,
    "pycharm": {
     "name": "#%%\n"
    }
   }
  },
  {
   "cell_type": "code",
   "execution_count": 8,
   "outputs": [
    {
     "name": "stdout",
     "output_type": "stream",
     "text": [
      "pde rmse: 3.1625423340346985e-17\n",
      "***************************************************\n",
      "Fokker_Planck (case=None):\n",
      "\tx_pde:   \t(10000, 3)\n",
      "\tx_bd:    \t(6300, 3)\n",
      "\tx_ic:    \tNone\n",
      "\tx_test:    \t(2000, 3)\n",
      "***************************************************\n"
     ]
    }
   ],
   "source": [
    "data = np.load('data/data.npz',allow_pickle=True)\n",
    "my_prob = Fokker_Planck_2d( data=data)\n",
    "x,u = my_prob.check_solution()\n",
    "print(my_prob)\n"
   ],
   "metadata": {
    "collapsed": false,
    "pycharm": {
     "name": "#%%\n"
    }
   }
  },
  {
   "cell_type": "code",
   "execution_count": 9,
   "outputs": [
    {
     "name": "stdout",
     "output_type": "stream",
     "text": [
      "5\n",
      "5\n"
     ]
    }
   ],
   "source": [
    "basis_num_vec = [ 1000, 2000, 3000,4000,5000]\n",
    "shape_vec = [ 1, 1, 1.5, 1.5, 1.5]\n",
    "print(len(shape_vec))\n",
    "print(len(basis_num_vec))\n"
   ],
   "metadata": {
    "collapsed": false,
    "pycharm": {
     "name": "#%%\n"
    }
   }
  },
  {
   "cell_type": "code",
   "execution_count": 10,
   "outputs": [
    {
     "name": "stdout",
     "output_type": "stream",
     "text": [
      "1000 Test MSE: 3.532709970065183e-05\n",
      "2000 Test MSE: 1.0145279396785145e-06\n",
      "3000 Test MSE: 2.030686347288772e-08\n",
      "4000 Test MSE: 2.1349749476514432e-09\n",
      "5000 Test MSE: 5.300730267970711e-10\n"
     ]
    }
   ],
   "source": [
    "temp_mse = []\n",
    "for i in range(len(basis_num_vec)):\n",
    "    basis_num = basis_num_vec[i]\n",
    "    basis = PDE_basis(x_dim=3, basis_num=basis_num)\n",
    "    basis.init_pde_basis(shape=shape_vec[i], radius=1.8)\n",
    "    train_ls = TrainLS(problem=my_prob, basis=basis)\n",
    "\n",
    "    coef_sol, info1 = train_ls.ls_pde(current_ceof=None,weights=None,ls_mse=True,item_mse=False)\n",
    "\n",
    "    mse_test, info2 = train_ls.get_mse_test(coef_sol=coef_sol)\n",
    "\n",
    "    print(basis_num,'Test MSE:', mse_test)\n",
    "    temp_mse.append(mse_test)\n",
    "mse_pde = np.array(temp_mse)"
   ],
   "metadata": {
    "collapsed": false,
    "pycharm": {
     "name": "#%%\n"
    }
   }
  },
  {
   "cell_type": "code",
   "execution_count": 11,
   "outputs": [
    {
     "name": "stdout",
     "output_type": "stream",
     "text": [
      "1000 Test MSE: 0.00010387120411118888\n",
      "2000 Test MSE: 3.318556781606665e-05\n",
      "3000 Test MSE: 2.9223937102465583e-05\n",
      "4000 Test MSE: 2.5070304944051234e-05\n",
      "5000 Test MSE: 2.2457204933356365e-05\n"
     ]
    }
   ],
   "source": [
    "# basis.init_dnn(init_type='default')\n",
    "\n",
    "\n",
    "temp_mse = []\n",
    "for i in range(len(basis_num_vec)):\n",
    "    basis_num = basis_num_vec[i]\n",
    "    basis = PDE_basis(x_dim=3, basis_num=basis_num)\n",
    "    basis.init_dnn(init_type='default')\n",
    "    train_ls = TrainLS(problem=my_prob, basis=basis)\n",
    "\n",
    "    coef_sol, info1 = train_ls.ls_pde(current_ceof=None,weights=None,ls_mse=True,item_mse=False)\n",
    "    mse_test, info2 = train_ls.get_mse_test(coef_sol=coef_sol)\n",
    "\n",
    "    print(basis_num,'Test MSE:', mse_test)\n",
    "    temp_mse.append(mse_test)\n",
    "\n",
    "#\n",
    "mse_dnn_default = np.array(temp_mse)"
   ],
   "metadata": {
    "collapsed": false,
    "pycharm": {
     "name": "#%%\n"
    }
   }
  },
  {
   "cell_type": "code",
   "execution_count": 14,
   "outputs": [],
   "source": [
    "df = pd.DataFrame({'basis_num': basis_num_vec,\n",
    "                   'mse_dnn_default': mse_dnn_default,\n",
    "                   'mse_pde_basis': mse_pde})\n",
    "df.to_csv(f'ls.csv',header=True, index=False, encoding='utf-8')"
   ],
   "metadata": {
    "collapsed": false,
    "pycharm": {
     "name": "#%%\n"
    }
   }
  },
  {
   "cell_type": "code",
   "execution_count": 15,
   "outputs": [
    {
     "data": {
      "text/plain": "<Figure size 576x432 with 1 Axes>",
      "image/png": "[encoded data removed]"
     },
     "metadata": {
      "needs_background": "light"
     },
     "output_type": "display_data"
    }
   ],
   "source": [
    "plt.figure(figsize=(8,6))\n",
    "plt.plot(basis_num_vec, mse_dnn_default,'*-' ,label='dnn_default')\n",
    "plt.plot(basis_num_vec, mse_pde,'*-', label='pde')\n",
    "plt.yscale('log')\n",
    "plt.legend()\n",
    "plt.grid(which='both')\n",
    "plt.xlabel('Basis_num')\n",
    "plt.ylabel('Test MSE')\n",
    "plt.show()\n"
   ],
   "metadata": {
    "collapsed": false,
    "pycharm": {
     "name": "#%%\n"
    }
   }
  },
  {
   "cell_type": "code",
   "execution_count": 13,
   "outputs": [],
   "source": [],
   "metadata": {
    "collapsed": false,
    "pycharm": {
     "name": "#%%\n"
    }
   }
  },
  {
   "cell_type": "code",
   "execution_count": 13,
   "outputs": [],
   "source": [],
   "metadata": {
    "collapsed": false,
    "pycharm": {
     "name": "#%%\n"
    }
   }
  }
 ],
 "metadata": {
  "kernelspec": {
   "display_name": "Python 3",
   "language": "python",
   "name": "python3"
  },
  "language_info": {
   "codemirror_mode": {
    "name": "ipython",
    "version": 2
   },
   "file_extension": ".py",
   "mimetype": "text/x-python",
   "name": "python",
   "nbconvert_exporter": "python",
   "pygments_lexer": "ipython2",
   "version": "2.7.6"
  }
 },
 "nbformat": 4,
 "nbformat_minor": 0
}