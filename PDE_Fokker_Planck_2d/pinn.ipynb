{
 "cells": [
  {
   "cell_type": "code",
   "execution_count": 13,
   "outputs": [],
   "source": [
    "import torch\n",
    "import torch.nn as nn\n",
    "import numpy as np\n",
    "import torch.optim as optim\n",
    "from torch.optim.lr_scheduler import StepLR\n",
    "import matplotlib.pyplot as plt\n",
    "import pandas as pd"
   ],
   "metadata": {
    "collapsed": false,
    "pycharm": {
     "name": "#%%\n"
    }
   }
  },
  {
   "cell_type": "code",
   "execution_count": 14,
   "outputs": [],
   "source": [
    "from problem import Fokker_Planck_2d\n",
    "from model import PDE_basis, TrainLS\n",
    "from my_utils import plot_2d_tri, plot_domain_2d"
   ],
   "metadata": {
    "collapsed": false,
    "pycharm": {
     "name": "#%%\n"
    }
   }
  },
  {
   "cell_type": "code",
   "execution_count": 15,
   "outputs": [],
   "source": [
    "class FCNet(nn.Module):\n",
    "    def __init__(self, input_dim, output_dim, width, hidden, use_bias=True):\n",
    "        super(FCNet, self).__init__()\n",
    "        self.width = width\n",
    "        self.hidden = hidden\n",
    "        self.use_bias = use_bias\n",
    "        self.activation = torch.tanh\n",
    "\n",
    "        # all linear layers\n",
    "        fc_all = [nn.Linear(in_features=input_dim, out_features=width, bias=use_bias)]\n",
    "        for i in range(self.hidden - 1):\n",
    "            fc_all.append(nn.Linear(in_features=width, out_features=width, bias=use_bias))\n",
    "        fc_all.append(nn.Linear(in_features=width, out_features=output_dim, bias=use_bias))\n",
    "        self.fc_all = nn.ModuleList(fc_all)\n",
    "        #\n",
    "\n",
    "    def forward(self, x_in):\n",
    "        # input\n",
    "        t = self.fc_all[0](x_in)\n",
    "        # FC\n",
    "        for i in range(self.hidden):\n",
    "            t = self.activation(t)\n",
    "            t = self.fc_all[i+1](t)\n",
    "        return t\n",
    "\n",
    "def grad(outputs, inputs):\n",
    "    \"\"\" compute the derivative of outputs associated with inputs\n",
    "\n",
    "    Params\n",
    "    ======\n",
    "    outputs: (N, 1) tensor\n",
    "    inputs: (N, D) tensor\n",
    "\n",
    "    :return: (N, D) tensor\n",
    "    \"\"\"\n",
    "    return torch.autograd.grad(outputs, inputs, grad_outputs=torch.ones_like(outputs),\n",
    "                               create_graph=True)[0]\n",
    "\n"
   ],
   "metadata": {
    "collapsed": false,
    "pycharm": {
     "name": "#%%\n"
    }
   }
  },
  {
   "cell_type": "code",
   "execution_count": 16,
   "outputs": [],
   "source": [
    "my_prob = Fokker_Planck_2d()\n",
    "sigma_SDE = my_prob.sigma_SDE\n",
    "\n",
    "\n",
    "def pde(x_pde, model):\n",
    "    x_pde.requires_grad_(True)\n",
    "    u_pde = model(x_pde)\n",
    "\n",
    "    t = x_pde[:,[0]]\n",
    "    mu1, mu2 = my_prob.mu_SDE(t)\n",
    "    D = sigma_SDE**2 / 2\n",
    "\n",
    "\n",
    "    grad_u = grad(u_pde, x_pde)\n",
    "    u_t = grad_u[:, [0]]\n",
    "    u_x = grad_u[:, [1]]\n",
    "    u_y = grad_u[:, [2]]\n",
    "\n",
    "    u_xx = grad(u_x, x_pde)[:, [1]]\n",
    "    u_yy = grad(u_y, x_pde)[:, [2]]\n",
    "\n",
    "    pde_value = u_t + mu1*u_x + mu2*u_y - D*(u_xx+u_yy)\n",
    "    return pde_value"
   ],
   "metadata": {
    "collapsed": false,
    "pycharm": {
     "name": "#%%\n"
    }
   }
  },
  {
   "cell_type": "code",
   "execution_count": 17,
   "outputs": [
    {
     "name": "stdout",
     "output_type": "stream",
     "text": [
      "torch.Size([10000, 3]) torch.Size([10000, 1])\n",
      "torch.Size([6300, 3]) torch.Size([6300, 1])\n",
      "torch.Size([2000, 3]) torch.Size([2000, 1])\n"
     ]
    }
   ],
   "source": [
    "data = np.load('data/data.npz',allow_pickle=True)\n",
    "x_pde = data['x_pde']\n",
    "x_bd = data['x_bd']\n",
    "x_test = data['x_test']\n",
    "\n",
    "target_pde = data['target_pde']\n",
    "target_bd = data['target_bd'].item()['u']\n",
    "target_test = data['target_test'].item()['u']\n",
    "\n",
    "x_pde = torch.from_numpy(x_pde).float()\n",
    "x_bd = torch.from_numpy(x_bd).float()\n",
    "x_test = torch.from_numpy(x_test).float()\n",
    "\n",
    "target_pde = torch.from_numpy(target_pde).float()\n",
    "target_bd = torch.from_numpy(target_bd).float()\n",
    "target_test = torch.from_numpy(target_test).float()\n",
    "print(x_pde.shape, target_pde.shape)\n",
    "print(x_bd.shape, target_bd.shape)\n",
    "print(x_test.shape, target_test.shape)\n"
   ],
   "metadata": {
    "collapsed": false,
    "pycharm": {
     "name": "#%%\n"
    }
   }
  },
  {
   "cell_type": "code",
   "execution_count": 18,
   "outputs": [
    {
     "name": "stdout",
     "output_type": "stream",
     "text": [
      "3.3228856351835907e-16 2.827746173118985e-16 4.9513939589015667e-17\n"
     ]
    }
   ],
   "source": [
    "# test loss function\n",
    "def model_test(x_in):\n",
    "    u = my_prob.u_exact(x_in)['u']\n",
    "    return u\n",
    "criterion = nn.MSELoss()\n",
    "\n",
    "op_pde = pde(x_pde, model_test)\n",
    "loss_pde = criterion(op_pde, target_pde)\n",
    "u_bd = model_test(x_bd)\n",
    "loss_bd = criterion(u_bd, target_bd)\n",
    "\n",
    "loss = loss_pde + loss_bd\n",
    "print(loss.item(), loss_pde.item(), loss_bd.item())"
   ],
   "metadata": {
    "collapsed": false,
    "pycharm": {
     "name": "#%%\n"
    }
   }
  },
  {
   "cell_type": "code",
   "execution_count": 19,
   "outputs": [],
   "source": [
    "def train_Adam(model, optimizer_Adam, lr_scheduler):\n",
    "    optimizer_Adam.zero_grad()\n",
    "    op_pde = pde(x_pde, model)\n",
    "    loss_pde = criterion(op_pde, target_pde)\n",
    "\n",
    "    u_bd = model(x_bd)\n",
    "    loss_bd = criterion(u_bd, target_bd)\n",
    "\n",
    "    loss = loss_pde + loss_bd\n",
    "\n",
    "    loss.backward()\n",
    "\n",
    "    optimizer_Adam.step()\n",
    "    lr_scheduler.step()\n",
    "    return loss.item(), loss_pde.item(), loss_bd.item()\n",
    "\n",
    "\n",
    "def train_LBFGS(model, optimizer_LBFGS):\n",
    "\n",
    "    def closure():\n",
    "        if torch.is_grad_enabled():\n",
    "            optimizer_LBFGS.zero_grad()\n",
    "\n",
    "        op_pde = pde(x_pde, model)\n",
    "        loss_pde = criterion(op_pde, target_pde)\n",
    "\n",
    "        u_bd = model(x_bd)\n",
    "        loss_bd = criterion(u_bd, target_bd)\n",
    "\n",
    "        loss = loss_pde + loss_bd\n",
    "        if loss.requires_grad:\n",
    "            loss.backward()\n",
    "        return loss\n",
    "\n",
    "    optimizer_LBFGS.step(closure)\n",
    "    loss = closure()\n",
    "\n",
    "    return loss.item()\n",
    "\n"
   ],
   "metadata": {
    "collapsed": false,
    "pycharm": {
     "name": "#%%\n"
    }
   }
  },
  {
   "cell_type": "code",
   "execution_count": 20,
   "outputs": [],
   "source": [
    "criterion = nn.MSELoss()\n",
    "epochs_Adam = 5000\n",
    "epochs_LBFGS = 201\n",
    "lr = 0.001\n",
    "gamma = 0.7\n",
    "step_size = 2000\n",
    "\n",
    "\n",
    "# model  = FCNet(input_dim=2, output_dim=1, width=500, hidden=1)\n",
    "# optimizer_Adam = optim.Adam(model.parameters(), lr=lr)\n",
    "# lr_scheduler = StepLR(optimizer_Adam,step_size=step_size,gamma=gamma)\n",
    "#\n",
    "# optimizer_LBFGS = optim.LBFGS(model.parameters(),\n",
    "#                                    max_iter=20,\n",
    "#                                    tolerance_grad=1.e-8,\n",
    "#                                    tolerance_change=1.e-12)\n",
    "use_cuda = True\n",
    "if use_cuda:\n",
    "    x_pde = x_pde.cuda()\n",
    "    x_bd = x_bd.cuda()\n",
    "    x_test = x_test.cuda()\n",
    "    target_pde = target_pde.cuda()\n",
    "    target_bd = target_bd.cuda()\n",
    "    target_test = target_test.cuda()\n"
   ],
   "metadata": {
    "collapsed": false,
    "pycharm": {
     "name": "#%%\n"
    }
   }
  },
  {
   "cell_type": "code",
   "execution_count": 21,
   "outputs": [],
   "source": [
    "\n",
    "def train(width):\n",
    "    model  = FCNet(input_dim=3, output_dim=1, width=width, hidden=1)\n",
    "    optimizer_Adam = optim.Adam(model.parameters(), lr=lr)\n",
    "    lr_scheduler = StepLR(optimizer_Adam,step_size=step_size,gamma=gamma)\n",
    "\n",
    "    optimizer_LBFGS = optim.LBFGS(model.parameters(),\n",
    "                                       max_iter=20,\n",
    "                                       tolerance_grad=1.e-8,\n",
    "                                       tolerance_change=1.e-12)\n",
    "    if use_cuda:\n",
    "        model.cuda()\n",
    "\n",
    "\n",
    "    record_epoch = []\n",
    "    train_loss = []\n",
    "    test_mse = []\n",
    "    for epoch in range(epochs_Adam):\n",
    "        loss, loss1, loss2 = train_Adam(model,optimizer_Adam,lr_scheduler)\n",
    "        if epoch % 100 == 0:\n",
    "            print(epoch, loss)\n",
    "            record_epoch.append(epoch)\n",
    "            train_loss.append(loss)\n",
    "            test_mse.append(criterion(target_test, model(x_test)).item())\n",
    "\n",
    "    for epoch in range(epochs_Adam, epochs_Adam + epochs_LBFGS):\n",
    "        loss = train_LBFGS(model,optimizer_LBFGS)\n",
    "        if epoch % 20 == 0:\n",
    "            print(epoch, loss)\n",
    "            record_epoch.append(epoch)\n",
    "            train_loss.append(loss)\n",
    "            test_mse.append(criterion(target_test, model(x_test)).item())\n",
    "    return record_epoch, train_loss, test_mse"
   ],
   "metadata": {
    "collapsed": false,
    "pycharm": {
     "name": "#%%\n"
    }
   }
  },
  {
   "cell_type": "code",
   "execution_count": 22,
   "outputs": [
    {
     "name": "stdout",
     "output_type": "stream",
     "text": [
      "1000 .....................\n",
      "0 0.039048485457897186\n",
      "100 0.009189842268824577\n",
      "200 0.008899624459445477\n",
      "300 0.008759881369769573\n",
      "400 0.008677897974848747\n",
      "500 0.008529813960194588\n",
      "600 0.008430486544966698\n",
      "700 0.008302479051053524\n",
      "800 0.00815163180232048\n",
      "900 0.007930885069072247\n",
      "1000 0.0075886668637394905\n",
      "1100 0.0072461459785699844\n",
      "1200 0.006993674673140049\n",
      "1300 0.006812415085732937\n",
      "1400 0.00666114641353488\n",
      "1500 0.0065172514878213406\n",
      "1600 0.009285444393754005\n",
      "1700 0.0062089296989142895\n",
      "1800 0.007106039673089981\n",
      "1900 0.005855930969119072\n",
      "2000 0.005684758070856333\n",
      "2100 0.005559139419347048\n",
      "2200 0.00542770279571414\n",
      "2300 0.005290333181619644\n",
      "2400 0.005150618962943554\n",
      "2500 0.005012601613998413\n",
      "2600 0.004877207800745964\n",
      "2700 0.004743122961372137\n",
      "2800 0.004629326052963734\n",
      "2900 0.0045317127369344234\n",
      "3000 0.00448413984850049\n",
      "3100 0.004357845522463322\n",
      "3200 0.004285994917154312\n",
      "3300 0.004206682089716196\n",
      "3400 0.004143720958381891\n",
      "3500 0.004086893051862717\n",
      "3600 0.00403172429651022\n",
      "3700 0.003999191801995039\n",
      "3800 0.003947545774281025\n",
      "3900 0.0038965875282883644\n",
      "4000 0.0038627770263701677\n",
      "4100 0.0038334394339472055\n",
      "4200 0.0038081060629338026\n",
      "4300 0.003782684216275811\n",
      "4400 0.003757213242352009\n",
      "4500 0.0037317294627428055\n",
      "4600 0.00370626337826252\n",
      "4700 0.003680839901790023\n",
      "4800 0.003660039510577917\n",
      "4900 0.0036353417672216892\n",
      "5000 0.003602927317842841\n",
      "5020 0.002602426568046212\n",
      "5040 0.002103750128298998\n",
      "5060 0.001769159222021699\n",
      "5080 0.0015355672221630812\n",
      "5100 0.0013314664829522371\n",
      "5120 0.0011816045735031366\n",
      "5140 0.001055123982951045\n",
      "5160 0.000944927625823766\n",
      "5180 0.0008636557031422853\n",
      "5200 0.0007909813430160284\n",
      "2000 .....................\n",
      "0 0.04133562371134758\n",
      "100 0.009305785410106182\n",
      "200 0.00906380545347929\n",
      "300 0.008921398781239986\n",
      "400 0.008904599584639072\n",
      "500 0.008708219975233078\n",
      "600 0.008619260974228382\n",
      "700 0.01236015371978283\n",
      "800 0.008468043059110641\n",
      "900 0.008497947826981544\n",
      "1000 0.008342413231730461\n",
      "1100 0.008310621604323387\n",
      "1200 0.008226245641708374\n",
      "1300 0.008392547257244587\n",
      "1400 0.008097792975604534\n",
      "1500 0.008012021891772747\n",
      "1600 0.007906833663582802\n",
      "1700 0.00839175283908844\n",
      "1800 0.007621076423674822\n",
      "1900 0.007455368526279926\n",
      "2000 0.007292947731912136\n",
      "2100 0.007188898976892233\n",
      "2200 0.007089654915034771\n",
      "2300 0.006997023709118366\n",
      "2400 0.006911486852914095\n",
      "2500 0.006831754464656115\n",
      "2600 0.0067547098733484745\n",
      "2700 0.006674989126622677\n",
      "2800 0.006607766728848219\n",
      "2900 0.006530130282044411\n",
      "3000 0.006506581325083971\n",
      "3100 0.006376051343977451\n",
      "3200 0.006298207677900791\n",
      "3300 0.006205340847373009\n",
      "3400 0.006151081994175911\n",
      "3500 0.006024439353495836\n",
      "3600 0.005942747928202152\n",
      "3700 0.005852622911334038\n",
      "3800 0.005752990487962961\n",
      "3900 0.005958791356533766\n",
      "4000 0.005578521639108658\n",
      "4100 0.005516464821994305\n",
      "4200 0.005451475735753775\n",
      "4300 0.005383618175983429\n",
      "4400 0.005313308909535408\n",
      "4500 0.0052412403747439384\n",
      "4600 0.005168319679796696\n",
      "4700 0.005095493048429489\n",
      "4800 0.005029603838920593\n",
      "4900 0.004971482791006565\n",
      "5000 0.004883977584540844\n",
      "5020 0.0032600010745227337\n",
      "5040 0.002539810724556446\n",
      "5060 0.0022420762106776237\n",
      "5080 0.0020358432084321976\n",
      "5100 0.0018629715777933598\n",
      "5120 0.001662408234551549\n",
      "5140 0.0014670132659375668\n",
      "5160 0.0013286510948091745\n",
      "5180 0.0011942062992602587\n",
      "5200 0.0010942426742985845\n",
      "3000 .....................\n",
      "0 0.06175096705555916\n",
      "100 0.009225300513207912\n",
      "200 0.008987884037196636\n",
      "300 0.008863952942192554\n",
      "400 0.009125500917434692\n",
      "500 0.008681552484631538\n",
      "600 0.01077751163393259\n",
      "700 0.008533753454685211\n",
      "800 0.00846858974546194\n",
      "900 0.008449120447039604\n",
      "1000 0.008352944627404213\n",
      "1100 0.008750002831220627\n",
      "1200 0.008243924006819725\n",
      "1300 0.00818607211112976\n",
      "1400 0.029966231435537338\n",
      "1500 0.008063109591603279\n",
      "1600 0.007989399135112762\n",
      "1700 0.00790045503526926\n",
      "1800 0.007800054736435413\n",
      "1900 0.007688781246542931\n",
      "2000 0.008196555078029633\n",
      "2100 0.007451428100466728\n",
      "2200 0.007333860732614994\n",
      "2300 0.00720903230831027\n",
      "2400 0.007079180330038071\n",
      "2500 0.0069444747641682625\n",
      "2600 0.006808213423937559\n",
      "2700 0.006985558196902275\n",
      "2800 0.006603362038731575\n",
      "2900 0.007010733708739281\n",
      "3000 0.006465177051723003\n",
      "3100 0.006405055057257414\n",
      "3200 0.006358383223414421\n",
      "3300 0.006402161903679371\n",
      "3400 0.006254606880247593\n",
      "3500 0.006730752997100353\n",
      "3600 0.006170500535517931\n",
      "3700 0.006357023026794195\n",
      "3800 0.006096200551837683\n",
      "3900 0.007367950398474932\n",
      "4000 0.006109314505010843\n",
      "4100 0.00599272083491087\n",
      "4200 0.005964420735836029\n",
      "4300 0.005934390239417553\n",
      "4400 0.005902367178350687\n",
      "4500 0.00586801627650857\n",
      "4600 0.00583090353757143\n",
      "4700 0.005790486931800842\n",
      "4800 0.0057549853809177876\n",
      "4900 0.00570997828617692\n",
      "5000 0.005621409509330988\n",
      "5020 0.0035991338081657887\n",
      "5040 0.002693053800612688\n",
      "5060 0.002329136710613966\n",
      "5080 0.0021185476798564196\n",
      "5100 0.0019272847566753626\n",
      "5120 0.0017263125628232956\n",
      "5140 0.0015756890643388033\n",
      "5160 0.0014477170770987868\n",
      "5180 0.0013369024964049459\n",
      "5200 0.0012483939062803984\n",
      "4000 .....................\n",
      "0 0.14274126291275024\n",
      "100 0.00936799868941307\n",
      "200 0.009004799649119377\n",
      "300 0.008848230354487896\n",
      "400 0.00874392595142126\n",
      "500 0.008849909529089928\n",
      "600 0.008592252619564533\n",
      "700 0.029940055683255196\n",
      "800 0.008473897352814674\n",
      "900 0.008421278558671474\n",
      "1000 0.00839573796838522\n",
      "1100 0.008329976350069046\n",
      "1200 0.008310258388519287\n",
      "1300 0.008247679099440575\n",
      "1400 0.008213675580918789\n",
      "1500 0.01075962744653225\n",
      "1600 0.008124738931655884\n",
      "1700 0.008344700559973717\n",
      "1800 0.008756468072533607\n",
      "1900 0.007979633286595345\n",
      "2000 0.01828070916235447\n",
      "2100 0.007871652022004128\n",
      "2200 0.007817099802196026\n",
      "2300 0.007753485813736916\n",
      "2400 0.007679302245378494\n",
      "2500 0.007594143506139517\n",
      "2600 0.007499316707253456\n",
      "2700 0.007398215122520924\n",
      "2800 0.008053145371377468\n",
      "2900 0.0072266701608896255\n",
      "3000 0.011757577769458294\n",
      "3100 0.007088295184075832\n",
      "3200 0.0070229447446763515\n",
      "3300 0.006966107524931431\n",
      "3400 0.006895978935062885\n",
      "3500 0.006845120806246996\n",
      "3600 0.006765072233974934\n",
      "3700 0.006696925964206457\n",
      "3800 0.006630009971559048\n",
      "3900 0.007847657427191734\n",
      "4000 0.006500568240880966\n",
      "4100 0.006455174647271633\n",
      "4200 0.0064072925597429276\n",
      "4300 0.006356559693813324\n",
      "4400 0.006302655674517155\n",
      "4500 0.006245251279324293\n",
      "4600 0.006184023339301348\n",
      "4700 0.0061186752282083035\n",
      "4800 0.011461474932730198\n",
      "4900 0.005987369455397129\n",
      "5000 0.005921699572354555\n",
      "5020 0.005919079761952162\n",
      "5040 0.005916535388678312\n",
      "5060 0.005914039444178343\n",
      "5080 0.005911581683903933\n",
      "5100 0.00590915884822607\n",
      "5120 0.005906764883548021\n",
      "5140 0.005904396530240774\n",
      "5160 0.005902057513594627\n",
      "5180 0.005899745039641857\n",
      "5200 0.0058974591083824635\n",
      "5000 .....................\n",
      "0 0.04627595841884613\n",
      "100 0.00960100069642067\n",
      "200 0.009219235740602016\n",
      "300 0.009034683927893639\n",
      "400 0.008920506574213505\n",
      "500 0.008834204636514187\n",
      "600 0.02237941138446331\n",
      "700 0.008693253621459007\n",
      "800 0.008630567230284214\n",
      "900 0.00858204998075962\n",
      "1000 0.008521298877894878\n",
      "1100 0.029281793162226677\n",
      "1200 0.008426944725215435\n",
      "1300 0.008381575345993042\n",
      "1400 0.008342714980244637\n",
      "1500 0.008299699984490871\n",
      "1600 0.008257972076535225\n",
      "1700 0.008334042504429817\n",
      "1800 0.008177755400538445\n",
      "1900 0.008133064024150372\n",
      "2000 0.008145274594426155\n",
      "2100 0.008061718195676804\n",
      "2200 0.008028519339859486\n",
      "2300 0.00799187459051609\n",
      "2400 0.007950672879815102\n",
      "2500 0.007903238758444786\n",
      "2600 0.007847005501389503\n",
      "2700 0.007778105325996876\n",
      "2800 0.007710481062531471\n",
      "2900 0.0076339333318173885\n",
      "3000 0.007548157591372728\n",
      "3100 0.007534379605203867\n",
      "3200 0.010450338944792747\n",
      "3300 0.007317465730011463\n",
      "3400 0.007243485189974308\n",
      "3500 0.0072103748098015785\n",
      "3600 0.007116062566637993\n",
      "3700 0.007056617643684149\n",
      "3800 0.00853839609771967\n",
      "3900 0.006976444739848375\n",
      "4000 0.007753488142043352\n",
      "4100 0.006868051365017891\n",
      "4200 0.00683358171954751\n",
      "4300 0.006797961425036192\n",
      "4400 0.006761041935533285\n",
      "4500 0.006722671445459127\n",
      "4600 0.006682687439024448\n",
      "4700 0.006640911567956209\n",
      "4800 0.006597144994884729\n",
      "4900 0.006623953580856323\n",
      "5000 0.006517622619867325\n",
      "5020 0.00651609618216753\n",
      "5040 0.006514597684144974\n",
      "5060 0.0065131173469126225\n",
      "5080 0.006511653773486614\n",
      "5100 0.006510206963866949\n",
      "5120 0.0065087731927633286\n",
      "5140 0.006507350597530603\n",
      "5160 0.006505937315523624\n",
      "5180 0.006504533812403679\n",
      "5200 0.006503140553832054\n"
     ]
    }
   ],
   "source": [
    "width_vec = [1000,2000,3000,4000,5000 ]\n",
    "result_all = []\n",
    "for width in width_vec:\n",
    "    print(width,'.....................')\n",
    "    record_epoch, train_loss, test_mse = train(width)\n",
    "    result_all.append([record_epoch, train_loss, test_mse])"
   ],
   "metadata": {
    "collapsed": false,
    "pycharm": {
     "name": "#%%\n"
    }
   }
  },
  {
   "cell_type": "code",
   "execution_count": 23,
   "outputs": [
    {
     "data": {
      "text/plain": "<Figure size 432x288 with 1 Axes>",
      "image/png": "[encoded data removed]"
     },
     "metadata": {
      "needs_background": "light"
     },
     "output_type": "display_data"
    }
   ],
   "source": [
    "for i in range(len(width_vec)):\n",
    "    plt.plot(result_all[i][0], result_all[i][1], label=width_vec[i])\n",
    "plt.yscale('log')\n",
    "plt.title('train mse')\n",
    "plt.legend()\n",
    "plt.show()"
   ],
   "metadata": {
    "collapsed": false,
    "pycharm": {
     "name": "#%%\n"
    }
   }
  },
  {
   "cell_type": "code",
   "execution_count": 24,
   "outputs": [
    {
     "data": {
      "text/plain": "<Figure size 432x288 with 1 Axes>",
      "image/png": "[encoded data removed]"
     },
     "metadata": {
      "needs_background": "light"
     },
     "output_type": "display_data"
    }
   ],
   "source": [
    "for i in range(len(width_vec)):\n",
    "    plt.plot(result_all[i][0], result_all[i][2], label=width_vec[i])\n",
    "plt.yscale('log')\n",
    "plt.title('test mse')\n",
    "plt.legend()\n",
    "plt.show()"
   ],
   "metadata": {
    "collapsed": false,
    "pycharm": {
     "name": "#%%\n"
    }
   }
  },
  {
   "cell_type": "code",
   "execution_count": 25,
   "outputs": [],
   "source": [
    "result_all = np.array(result_all)\n",
    "np.save('pinn_raw',result_all)"
   ],
   "metadata": {
    "collapsed": false,
    "pycharm": {
     "name": "#%%\n"
    }
   }
  },
  {
   "cell_type": "code",
   "execution_count": 26,
   "outputs": [],
   "source": [
    "final_mse = []\n",
    "final_mse_adam = []\n",
    "for i in range(len(width_vec)):\n",
    "    index = result_all[i][0]\n",
    "    temp = np.array(result_all[i][2])\n",
    "    final_mse.append(temp.min())\n",
    "    final_mse_adam.append(temp[index==epochs_Adam].item())\n",
    "\n",
    "df = pd.DataFrame({'basis_num': width_vec, 'mse_final': final_mse, 'mse_adam': final_mse_adam})\n",
    "df.to_csv(f'pinn.csv',header=True, index=False, encoding='utf-8')"
   ],
   "metadata": {
    "collapsed": false,
    "pycharm": {
     "name": "#%%\n"
    }
   }
  }
 ],
 "metadata": {
  "kernelspec": {
   "display_name": "Python 3",
   "language": "python",
   "name": "python3"
  },
  "language_info": {
   "codemirror_mode": {
    "name": "ipython",
    "version": 2
   },
   "file_extension": ".py",
   "mimetype": "text/x-python",
   "name": "python",
   "nbconvert_exporter": "python",
   "pygments_lexer": "ipython2",
   "version": "2.7.6"
  }
 },
 "nbformat": 4,
 "nbformat_minor": 0
}