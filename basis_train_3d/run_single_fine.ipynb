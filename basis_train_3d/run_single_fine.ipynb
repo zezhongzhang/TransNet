{
 "cells": [
  {
   "cell_type": "code",
   "execution_count": 5,
   "metadata": {
    "collapsed": true,
    "pycharm": {
     "name": "#%%\n"
    }
   },
   "outputs": [],
   "source": [
    "import numpy as np\n",
    "import matplotlib.pyplot as plt\n",
    "import pandas as pd\n",
    "import gstools as gs\n",
    "from model import PDE_basis, LS_Base"
   ]
  },
  {
   "cell_type": "code",
   "execution_count": 10,
   "outputs": [
    {
     "name": "stdout",
     "output_type": "stream",
     "text": [
      "basis_num tested: [5000, 1000, 500]\n",
      "shape tested: [0.2 0.4 0.6 0.8 1.  1.2 1.4 1.6 1.8 2.  2.2 2.4]\n",
      "loc_scale tested: [1.8]\n",
      "cor_len tested: [0.5, 1]\n"
     ]
    }
   ],
   "source": [
    "# basis_num_vec = [500]\n",
    "basis_num_vec = [5000, 1000, 500]\n",
    "K_vec = [10, 10, 10]          # number of GP realizations\n",
    "shape_vec = np.arange(0.2,2.5,0.2)\n",
    "radius_vec = [1.8]\n",
    "cor_len_vec = [0.5, 1]\n",
    "\n",
    "print('basis_num tested:', basis_num_vec)\n",
    "print('shape tested:', shape_vec)\n",
    "print('loc_scale tested:', radius_vec)\n",
    "print('cor_len tested:', cor_len_vec)"
   ],
   "metadata": {
    "collapsed": false,
    "pycharm": {
     "name": "#%%\n"
    }
   }
  },
  {
   "cell_type": "code",
   "execution_count": 9,
   "outputs": [
    {
     "name": "stdout",
     "output_type": "stream",
     "text": [
      "(27000, 3)\n"
     ]
    }
   ],
   "source": [
    "x_dim = 3              # fitting dimension\n",
    "mesh_size = 30   # number of spatial samples in each GP realization\n",
    "cor_len = 0.5\n",
    "\n",
    "x_1d = np.linspace(-1,1,mesh_size)\n",
    "x1_2d, x2_2d, x3_2d = np.meshgrid(x_1d,x_1d,x_1d)\n",
    "x_train = np.stack([x1_2d.flatten(), x2_2d.flatten(), x3_2d.flatten()],axis=1)\n",
    "print(x_train.shape)"
   ],
   "metadata": {
    "collapsed": false,
    "pycharm": {
     "name": "#%%\n"
    }
   }
  },
  {
   "cell_type": "code",
   "execution_count": 8,
   "outputs": [
    {
     "name": "stdout",
     "output_type": "stream",
     "text": [
      "\n",
      "cor_len= 0.5\n",
      "\tradius=1.8:\n",
      "\t\tbasis_num=5000: (0.20) (0.40) (0.60) (0.80) (1.00) (1.20) (1.40) (1.60) (1.80) (2.00) (2.20) (2.40)\n",
      "\t\tbasis_num=1000: (0.20) (0.40) (0.60) (0.80) (1.00) (1.20) (1.40) (1.60) (1.80) (2.00) (2.20) (2.40)\n",
      "\t\tbasis_num=500: (0.20) (0.40) (0.60) (0.80) (1.00) (1.20) (1.40) (1.60) (1.80) (2.00) (2.20) (2.40)\n",
      "cor_len= 1\n",
      "\tradius=1.8:\n",
      "\t\tbasis_num=5000: (0.20) (0.40) (0.60) (0.80) (1.00) (1.20) (1.40) (1.60) (1.80) (2.00) (2.20) (2.40)\n",
      "\t\tbasis_num=1000: (0.20) (0.40) (0.60) (0.80) (1.00) (1.20) (1.40) (1.60) (1.80) (2.00) (2.20) (2.40)\n",
      "\t\tbasis_num=500: (0.20) (0.40) (0.60) (0.80) (1.00) (1.20) (1.40) (1.60) (1.80) (2.00) (2.20) (2.40)"
     ]
    }
   ],
   "source": [
    "for case,cor_len in enumerate(cor_len_vec):\n",
    "    print('\\ncor_len=', cor_len,end='')\n",
    "    # get all GP realization\n",
    "    model = gs.Gaussian(dim=x_dim, var=1, len_scale=cor_len)\n",
    "    srf = gs.SRF(model)\n",
    "    srf.set_pos([x_1d, x_1d, x_1d], \"structured\")\n",
    "    # generate fields\n",
    "    for i in range(K_vec[case]):\n",
    "        srf(seed=i, store=f\"field{i}\")\n",
    "\n",
    "    # LS fitting\n",
    "    for radius in radius_vec:\n",
    "        print(f'\\n\\tradius={radius}:',end='')\n",
    "        temp_result = np.zeros((len(basis_num_vec), len(shape_vec)))\n",
    "\n",
    "        for i, basis_num in enumerate(basis_num_vec):\n",
    "            print(f'\\n\\t\\tbasis_num={basis_num}:',end='')\n",
    "            # set up basis\n",
    "            for j, shape in enumerate(shape_vec):\n",
    "                # set up basis\n",
    "                print(f' ({shape:.2f})', end='')\n",
    "\n",
    "                # LS fitting for all GP\n",
    "                mean_mse = []\n",
    "                for k in range(K_vec[case]):\n",
    "\n",
    "                    basis = PDE_basis(x_dim=x_dim, basis_num=basis_num)\n",
    "                    basis.init_pde_basis(shape=shape, radius=radius)\n",
    "                    ls_data = {f'GP': [basis.eval_basis(x_train)['u'], srf[k].flatten()[:,None]]}\n",
    "                    coef, info = LS_Base.ls_fit(data=ls_data, weights=None, ls_mse=True, item_mse=False)\n",
    "                    ls_mse = info['ls_mse']\n",
    "                    mean_mse.append(ls_mse)\n",
    "                mean_mse = np.mean(np.array(mean_mse))\n",
    "                #\n",
    "                temp_result[i,j] = mean_mse\n",
    "        df = pd.DataFrame(temp_result)\n",
    "        df.columns = [f'shape_{shape}' for shape in shape_vec]\n",
    "        df.insert (0, 'basis_num', basis_num_vec)\n",
    "        df.to_csv(f'raw/cor_{cor_len}_r_{radius}_fine.csv',header=True, index=False, encoding='utf-8')\n"
   ],
   "metadata": {
    "collapsed": false,
    "pycharm": {
     "name": "#%%\n"
    }
   }
  },
  {
   "cell_type": "code",
   "execution_count": null,
   "outputs": [],
   "source": [
    "\n",
    "\n"
   ],
   "metadata": {
    "collapsed": false,
    "pycharm": {
     "name": "#%%\n"
    }
   }
  }
 ],
 "metadata": {
  "kernelspec": {
   "display_name": "Python 3",
   "language": "python",
   "name": "python3"
  },
  "language_info": {
   "codemirror_mode": {
    "name": "ipython",
    "version": 2
   },
   "file_extension": ".py",
   "mimetype": "text/x-python",
   "name": "python",
   "nbconvert_exporter": "python",
   "pygments_lexer": "ipython2",
   "version": "2.7.6"
  }
 },
 "nbformat": 4,
 "nbformat_minor": 0
}