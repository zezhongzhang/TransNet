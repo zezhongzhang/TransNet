{
 "cells": [
  {
   "cell_type": "code",
   "execution_count": 15,
   "metadata": {
    "collapsed": true,
    "pycharm": {
     "name": "#%%\n"
    }
   },
   "outputs": [],
   "source": [
    "import numpy as np\n",
    "import matplotlib.pyplot as plt\n",
    "import torch\n",
    "import torch.nn as nn"
   ]
  },
  {
   "cell_type": "code",
   "execution_count": 16,
   "outputs": [],
   "source": [
    "from problem import Domain, Poisson_3d\n",
    "from my_utils import  plot_domain_2d, plot_2d_tri\n",
    "from scipy.stats import qmc\n"
   ],
   "metadata": {
    "collapsed": false,
    "pycharm": {
     "name": "#%%\n"
    }
   }
  },
  {
   "cell_type": "code",
   "execution_count": 17,
   "outputs": [
    {
     "name": "stdout",
     "output_type": "stream",
     "text": [
      "[[-1  1]\n",
      " [-1  1]\n",
      " [-1  1]]\n"
     ]
    }
   ],
   "source": [
    "domain = Domain(domain_range=(-1,1,-1,1,-1,1),domain_shape='box')\n",
    "print(domain.domain_range)\n",
    "sampler = qmc.Halton(d=3, scramble=True)\n",
    "sample_size_pde = 10000\n",
    "sample_size_test = 2000\n",
    "x_pde = sampler.random(n=sample_size_pde)*2 - 1\n",
    "x_test = sampler.random(n=sample_size_test)*2 - 1\n",
    "\n",
    "x_bd = domain.sample_nd_mesh_bd(mesh_vec=[20,20,20])\n",
    "\n"
   ],
   "metadata": {
    "collapsed": false,
    "pycharm": {
     "name": "#%%\n"
    }
   }
  },
  {
   "cell_type": "code",
   "execution_count": 18,
   "outputs": [
    {
     "name": "stdout",
     "output_type": "stream",
     "text": [
      "pde rmse: 5.470658461431025e-15\n",
      "***************************************************\n",
      "Poisson (case=2):\n",
      "\tx_pde:   \t(10000, 3)\n",
      "\tx_bd:    \t(2400, 3)\n",
      "\tx_ic:    \tNone\n",
      "\tx_test:    \t(2000, 3)\n",
      "***************************************************\n"
     ]
    }
   ],
   "source": [
    "my_prob = Poisson_3d(case=2)\n",
    "x,u = my_prob.check_solution(x_pde)\n",
    "# plot_2d_tri(x[:,0], x[:,1], u[:,0])\n",
    "target_pde = my_prob.rhs(x_pde)\n",
    "target_bd = my_prob.u_exact(x_bd)\n",
    "target_test = my_prob.u_exact(x_test)\n",
    "\n",
    "my_prob.set_data(x_pde=x_pde, x_test=x_test, x_bd=x_bd,\n",
    "                 target_pde=target_pde, target_test=target_test, target_bd=target_bd)\n",
    "print(my_prob)"
   ],
   "metadata": {
    "collapsed": false,
    "pycharm": {
     "name": "#%%\n"
    }
   }
  },
  {
   "cell_type": "code",
   "execution_count": 19,
   "outputs": [],
   "source": [
    "np.savez('data/data', x_pde=x_pde, x_bd=x_bd, x_test=x_test,\n",
    "         target_pde=target_pde, target_bd=target_bd, target_test=target_test)"
   ],
   "metadata": {
    "collapsed": false,
    "pycharm": {
     "name": "#%%\n"
    }
   }
  }
 ],
 "metadata": {
  "kernelspec": {
   "display_name": "Python 3",
   "language": "python",
   "name": "python3"
  },
  "language_info": {
   "codemirror_mode": {
    "name": "ipython",
    "version": 2
   },
   "file_extension": ".py",
   "mimetype": "text/x-python",
   "name": "python",
   "nbconvert_exporter": "python",
   "pygments_lexer": "ipython2",
   "version": "2.7.6"
  }
 },
 "nbformat": 4,
 "nbformat_minor": 0
}